{
  "nbformat": 4,
  "nbformat_minor": 0,
  "metadata": {
    "colab": {
      "provenance": [],
      "authorship_tag": "ABX9TyP4mexNzsVgBiVayf7D+Sn/",
      "include_colab_link": true
    },
    "kernelspec": {
      "name": "python3",
      "display_name": "Python 3"
    },
    "language_info": {
      "name": "python"
    }
  },
  "cells": [
    {
      "cell_type": "markdown",
      "metadata": {
        "id": "view-in-github",
        "colab_type": "text"
      },
      "source": [
        "<a href=\"https://colab.research.google.com/github/SanjayS2348553/Trimester-3/blob/main/2348553_DL_Lab4.ipynb\" target=\"_parent\"><img src=\"https://colab.research.google.com/assets/colab-badge.svg\" alt=\"Open In Colab\"/></a>"
      ]
    },
    {
      "cell_type": "code",
      "execution_count": 8,
      "metadata": {
        "id": "h7f6jRjfRPfj"
      },
      "outputs": [],
      "source": [
        "import pandas as pd\n",
        "from sklearn.model_selection import train_test_split\n",
        "from sklearn.preprocessing import StandardScaler, OneHotEncoder\n",
        "from sklearn.compose import ColumnTransformer\n",
        "from sklearn.pipeline import Pipeline\n",
        "import numpy as np\n",
        "from sklearn.metrics import accuracy_score, f1_score, roc_auc_score"
      ]
    },
    {
      "cell_type": "code",
      "source": [
        "df = pd.read_csv(\"/content/dl5.csv\")\n",
        "df.head()"
      ],
      "metadata": {
        "id": "BKC70Nfj3d1-",
        "outputId": "18591bce-4f86-43c5-9792-cbe5e09a777d",
        "colab": {
          "base_uri": "https://localhost:8080/",
          "height": 261
        }
      },
      "execution_count": 9,
      "outputs": [
        {
          "output_type": "execute_result",
          "data": {
            "text/plain": [
              "  State  Account length  Area code International plan Voice mail plan  \\\n",
              "0    LA             117        408                 No              No   \n",
              "1    IN              65        415                 No              No   \n",
              "2    NY             161        415                 No              No   \n",
              "3    SC             111        415                 No              No   \n",
              "4    HI              49        510                 No              No   \n",
              "\n",
              "   Number vmail messages  Total day minutes  Total day calls  \\\n",
              "0                      0              184.5               97   \n",
              "1                      0              129.1              137   \n",
              "2                      0              332.9               67   \n",
              "3                      0              110.4              103   \n",
              "4                      0              119.3              117   \n",
              "\n",
              "   Total day charge  Total eve minutes  Total eve calls  Total eve charge  \\\n",
              "0             31.37              351.6               80             29.89   \n",
              "1             21.95              228.5               83             19.42   \n",
              "2             56.59              317.8               97             27.01   \n",
              "3             18.77              137.3              102             11.67   \n",
              "4             20.28              215.1              109             18.28   \n",
              "\n",
              "   Total night minutes  Total night calls  Total night charge  \\\n",
              "0                215.8                 90                9.71   \n",
              "1                208.8                111                9.40   \n",
              "2                160.6                128                7.23   \n",
              "3                189.6                105                8.53   \n",
              "4                178.7                 90                8.04   \n",
              "\n",
              "   Total intl minutes  Total intl calls  Total intl charge  \\\n",
              "0                 8.7                 4               2.35   \n",
              "1                12.7                 6               3.43   \n",
              "2                 5.4                 9               1.46   \n",
              "3                 7.7                 6               2.08   \n",
              "4                11.1                 1               3.00   \n",
              "\n",
              "   Customer service calls  Churn  \n",
              "0                       1  False  \n",
              "1                       4   True  \n",
              "2                       4   True  \n",
              "3                       2  False  \n",
              "4                       1  False  "
            ],
            "text/html": [
              "\n",
              "  <div id=\"df-b9790411-cbc1-44a3-866a-eb3fbfb77049\" class=\"colab-df-container\">\n",
              "    <div>\n",
              "<style scoped>\n",
              "    .dataframe tbody tr th:only-of-type {\n",
              "        vertical-align: middle;\n",
              "    }\n",
              "\n",
              "    .dataframe tbody tr th {\n",
              "        vertical-align: top;\n",
              "    }\n",
              "\n",
              "    .dataframe thead th {\n",
              "        text-align: right;\n",
              "    }\n",
              "</style>\n",
              "<table border=\"1\" class=\"dataframe\">\n",
              "  <thead>\n",
              "    <tr style=\"text-align: right;\">\n",
              "      <th></th>\n",
              "      <th>State</th>\n",
              "      <th>Account length</th>\n",
              "      <th>Area code</th>\n",
              "      <th>International plan</th>\n",
              "      <th>Voice mail plan</th>\n",
              "      <th>Number vmail messages</th>\n",
              "      <th>Total day minutes</th>\n",
              "      <th>Total day calls</th>\n",
              "      <th>Total day charge</th>\n",
              "      <th>Total eve minutes</th>\n",
              "      <th>Total eve calls</th>\n",
              "      <th>Total eve charge</th>\n",
              "      <th>Total night minutes</th>\n",
              "      <th>Total night calls</th>\n",
              "      <th>Total night charge</th>\n",
              "      <th>Total intl minutes</th>\n",
              "      <th>Total intl calls</th>\n",
              "      <th>Total intl charge</th>\n",
              "      <th>Customer service calls</th>\n",
              "      <th>Churn</th>\n",
              "    </tr>\n",
              "  </thead>\n",
              "  <tbody>\n",
              "    <tr>\n",
              "      <th>0</th>\n",
              "      <td>LA</td>\n",
              "      <td>117</td>\n",
              "      <td>408</td>\n",
              "      <td>No</td>\n",
              "      <td>No</td>\n",
              "      <td>0</td>\n",
              "      <td>184.5</td>\n",
              "      <td>97</td>\n",
              "      <td>31.37</td>\n",
              "      <td>351.6</td>\n",
              "      <td>80</td>\n",
              "      <td>29.89</td>\n",
              "      <td>215.8</td>\n",
              "      <td>90</td>\n",
              "      <td>9.71</td>\n",
              "      <td>8.7</td>\n",
              "      <td>4</td>\n",
              "      <td>2.35</td>\n",
              "      <td>1</td>\n",
              "      <td>False</td>\n",
              "    </tr>\n",
              "    <tr>\n",
              "      <th>1</th>\n",
              "      <td>IN</td>\n",
              "      <td>65</td>\n",
              "      <td>415</td>\n",
              "      <td>No</td>\n",
              "      <td>No</td>\n",
              "      <td>0</td>\n",
              "      <td>129.1</td>\n",
              "      <td>137</td>\n",
              "      <td>21.95</td>\n",
              "      <td>228.5</td>\n",
              "      <td>83</td>\n",
              "      <td>19.42</td>\n",
              "      <td>208.8</td>\n",
              "      <td>111</td>\n",
              "      <td>9.40</td>\n",
              "      <td>12.7</td>\n",
              "      <td>6</td>\n",
              "      <td>3.43</td>\n",
              "      <td>4</td>\n",
              "      <td>True</td>\n",
              "    </tr>\n",
              "    <tr>\n",
              "      <th>2</th>\n",
              "      <td>NY</td>\n",
              "      <td>161</td>\n",
              "      <td>415</td>\n",
              "      <td>No</td>\n",
              "      <td>No</td>\n",
              "      <td>0</td>\n",
              "      <td>332.9</td>\n",
              "      <td>67</td>\n",
              "      <td>56.59</td>\n",
              "      <td>317.8</td>\n",
              "      <td>97</td>\n",
              "      <td>27.01</td>\n",
              "      <td>160.6</td>\n",
              "      <td>128</td>\n",
              "      <td>7.23</td>\n",
              "      <td>5.4</td>\n",
              "      <td>9</td>\n",
              "      <td>1.46</td>\n",
              "      <td>4</td>\n",
              "      <td>True</td>\n",
              "    </tr>\n",
              "    <tr>\n",
              "      <th>3</th>\n",
              "      <td>SC</td>\n",
              "      <td>111</td>\n",
              "      <td>415</td>\n",
              "      <td>No</td>\n",
              "      <td>No</td>\n",
              "      <td>0</td>\n",
              "      <td>110.4</td>\n",
              "      <td>103</td>\n",
              "      <td>18.77</td>\n",
              "      <td>137.3</td>\n",
              "      <td>102</td>\n",
              "      <td>11.67</td>\n",
              "      <td>189.6</td>\n",
              "      <td>105</td>\n",
              "      <td>8.53</td>\n",
              "      <td>7.7</td>\n",
              "      <td>6</td>\n",
              "      <td>2.08</td>\n",
              "      <td>2</td>\n",
              "      <td>False</td>\n",
              "    </tr>\n",
              "    <tr>\n",
              "      <th>4</th>\n",
              "      <td>HI</td>\n",
              "      <td>49</td>\n",
              "      <td>510</td>\n",
              "      <td>No</td>\n",
              "      <td>No</td>\n",
              "      <td>0</td>\n",
              "      <td>119.3</td>\n",
              "      <td>117</td>\n",
              "      <td>20.28</td>\n",
              "      <td>215.1</td>\n",
              "      <td>109</td>\n",
              "      <td>18.28</td>\n",
              "      <td>178.7</td>\n",
              "      <td>90</td>\n",
              "      <td>8.04</td>\n",
              "      <td>11.1</td>\n",
              "      <td>1</td>\n",
              "      <td>3.00</td>\n",
              "      <td>1</td>\n",
              "      <td>False</td>\n",
              "    </tr>\n",
              "  </tbody>\n",
              "</table>\n",
              "</div>\n",
              "    <div class=\"colab-df-buttons\">\n",
              "\n",
              "  <div class=\"colab-df-container\">\n",
              "    <button class=\"colab-df-convert\" onclick=\"convertToInteractive('df-b9790411-cbc1-44a3-866a-eb3fbfb77049')\"\n",
              "            title=\"Convert this dataframe to an interactive table.\"\n",
              "            style=\"display:none;\">\n",
              "\n",
              "  <svg xmlns=\"http://www.w3.org/2000/svg\" height=\"24px\" viewBox=\"0 -960 960 960\">\n",
              "    <path d=\"M120-120v-720h720v720H120Zm60-500h600v-160H180v160Zm220 220h160v-160H400v160Zm0 220h160v-160H400v160ZM180-400h160v-160H180v160Zm440 0h160v-160H620v160ZM180-180h160v-160H180v160Zm440 0h160v-160H620v160Z\"/>\n",
              "  </svg>\n",
              "    </button>\n",
              "\n",
              "  <style>\n",
              "    .colab-df-container {\n",
              "      display:flex;\n",
              "      gap: 12px;\n",
              "    }\n",
              "\n",
              "    .colab-df-convert {\n",
              "      background-color: #E8F0FE;\n",
              "      border: none;\n",
              "      border-radius: 50%;\n",
              "      cursor: pointer;\n",
              "      display: none;\n",
              "      fill: #1967D2;\n",
              "      height: 32px;\n",
              "      padding: 0 0 0 0;\n",
              "      width: 32px;\n",
              "    }\n",
              "\n",
              "    .colab-df-convert:hover {\n",
              "      background-color: #E2EBFA;\n",
              "      box-shadow: 0px 1px 2px rgba(60, 64, 67, 0.3), 0px 1px 3px 1px rgba(60, 64, 67, 0.15);\n",
              "      fill: #174EA6;\n",
              "    }\n",
              "\n",
              "    .colab-df-buttons div {\n",
              "      margin-bottom: 4px;\n",
              "    }\n",
              "\n",
              "    [theme=dark] .colab-df-convert {\n",
              "      background-color: #3B4455;\n",
              "      fill: #D2E3FC;\n",
              "    }\n",
              "\n",
              "    [theme=dark] .colab-df-convert:hover {\n",
              "      background-color: #434B5C;\n",
              "      box-shadow: 0px 1px 3px 1px rgba(0, 0, 0, 0.15);\n",
              "      filter: drop-shadow(0px 1px 2px rgba(0, 0, 0, 0.3));\n",
              "      fill: #FFFFFF;\n",
              "    }\n",
              "  </style>\n",
              "\n",
              "    <script>\n",
              "      const buttonEl =\n",
              "        document.querySelector('#df-b9790411-cbc1-44a3-866a-eb3fbfb77049 button.colab-df-convert');\n",
              "      buttonEl.style.display =\n",
              "        google.colab.kernel.accessAllowed ? 'block' : 'none';\n",
              "\n",
              "      async function convertToInteractive(key) {\n",
              "        const element = document.querySelector('#df-b9790411-cbc1-44a3-866a-eb3fbfb77049');\n",
              "        const dataTable =\n",
              "          await google.colab.kernel.invokeFunction('convertToInteractive',\n",
              "                                                    [key], {});\n",
              "        if (!dataTable) return;\n",
              "\n",
              "        const docLinkHtml = 'Like what you see? Visit the ' +\n",
              "          '<a target=\"_blank\" href=https://colab.research.google.com/notebooks/data_table.ipynb>data table notebook</a>'\n",
              "          + ' to learn more about interactive tables.';\n",
              "        element.innerHTML = '';\n",
              "        dataTable['output_type'] = 'display_data';\n",
              "        await google.colab.output.renderOutput(dataTable, element);\n",
              "        const docLink = document.createElement('div');\n",
              "        docLink.innerHTML = docLinkHtml;\n",
              "        element.appendChild(docLink);\n",
              "      }\n",
              "    </script>\n",
              "  </div>\n",
              "\n",
              "\n",
              "<div id=\"df-afc8a578-9d22-4e79-841f-8223fb861488\">\n",
              "  <button class=\"colab-df-quickchart\" onclick=\"quickchart('df-afc8a578-9d22-4e79-841f-8223fb861488')\"\n",
              "            title=\"Suggest charts\"\n",
              "            style=\"display:none;\">\n",
              "\n",
              "<svg xmlns=\"http://www.w3.org/2000/svg\" height=\"24px\"viewBox=\"0 0 24 24\"\n",
              "     width=\"24px\">\n",
              "    <g>\n",
              "        <path d=\"M19 3H5c-1.1 0-2 .9-2 2v14c0 1.1.9 2 2 2h14c1.1 0 2-.9 2-2V5c0-1.1-.9-2-2-2zM9 17H7v-7h2v7zm4 0h-2V7h2v10zm4 0h-2v-4h2v4z\"/>\n",
              "    </g>\n",
              "</svg>\n",
              "  </button>\n",
              "\n",
              "<style>\n",
              "  .colab-df-quickchart {\n",
              "      --bg-color: #E8F0FE;\n",
              "      --fill-color: #1967D2;\n",
              "      --hover-bg-color: #E2EBFA;\n",
              "      --hover-fill-color: #174EA6;\n",
              "      --disabled-fill-color: #AAA;\n",
              "      --disabled-bg-color: #DDD;\n",
              "  }\n",
              "\n",
              "  [theme=dark] .colab-df-quickchart {\n",
              "      --bg-color: #3B4455;\n",
              "      --fill-color: #D2E3FC;\n",
              "      --hover-bg-color: #434B5C;\n",
              "      --hover-fill-color: #FFFFFF;\n",
              "      --disabled-bg-color: #3B4455;\n",
              "      --disabled-fill-color: #666;\n",
              "  }\n",
              "\n",
              "  .colab-df-quickchart {\n",
              "    background-color: var(--bg-color);\n",
              "    border: none;\n",
              "    border-radius: 50%;\n",
              "    cursor: pointer;\n",
              "    display: none;\n",
              "    fill: var(--fill-color);\n",
              "    height: 32px;\n",
              "    padding: 0;\n",
              "    width: 32px;\n",
              "  }\n",
              "\n",
              "  .colab-df-quickchart:hover {\n",
              "    background-color: var(--hover-bg-color);\n",
              "    box-shadow: 0 1px 2px rgba(60, 64, 67, 0.3), 0 1px 3px 1px rgba(60, 64, 67, 0.15);\n",
              "    fill: var(--button-hover-fill-color);\n",
              "  }\n",
              "\n",
              "  .colab-df-quickchart-complete:disabled,\n",
              "  .colab-df-quickchart-complete:disabled:hover {\n",
              "    background-color: var(--disabled-bg-color);\n",
              "    fill: var(--disabled-fill-color);\n",
              "    box-shadow: none;\n",
              "  }\n",
              "\n",
              "  .colab-df-spinner {\n",
              "    border: 2px solid var(--fill-color);\n",
              "    border-color: transparent;\n",
              "    border-bottom-color: var(--fill-color);\n",
              "    animation:\n",
              "      spin 1s steps(1) infinite;\n",
              "  }\n",
              "\n",
              "  @keyframes spin {\n",
              "    0% {\n",
              "      border-color: transparent;\n",
              "      border-bottom-color: var(--fill-color);\n",
              "      border-left-color: var(--fill-color);\n",
              "    }\n",
              "    20% {\n",
              "      border-color: transparent;\n",
              "      border-left-color: var(--fill-color);\n",
              "      border-top-color: var(--fill-color);\n",
              "    }\n",
              "    30% {\n",
              "      border-color: transparent;\n",
              "      border-left-color: var(--fill-color);\n",
              "      border-top-color: var(--fill-color);\n",
              "      border-right-color: var(--fill-color);\n",
              "    }\n",
              "    40% {\n",
              "      border-color: transparent;\n",
              "      border-right-color: var(--fill-color);\n",
              "      border-top-color: var(--fill-color);\n",
              "    }\n",
              "    60% {\n",
              "      border-color: transparent;\n",
              "      border-right-color: var(--fill-color);\n",
              "    }\n",
              "    80% {\n",
              "      border-color: transparent;\n",
              "      border-right-color: var(--fill-color);\n",
              "      border-bottom-color: var(--fill-color);\n",
              "    }\n",
              "    90% {\n",
              "      border-color: transparent;\n",
              "      border-bottom-color: var(--fill-color);\n",
              "    }\n",
              "  }\n",
              "</style>\n",
              "\n",
              "  <script>\n",
              "    async function quickchart(key) {\n",
              "      const quickchartButtonEl =\n",
              "        document.querySelector('#' + key + ' button');\n",
              "      quickchartButtonEl.disabled = true;  // To prevent multiple clicks.\n",
              "      quickchartButtonEl.classList.add('colab-df-spinner');\n",
              "      try {\n",
              "        const charts = await google.colab.kernel.invokeFunction(\n",
              "            'suggestCharts', [key], {});\n",
              "      } catch (error) {\n",
              "        console.error('Error during call to suggestCharts:', error);\n",
              "      }\n",
              "      quickchartButtonEl.classList.remove('colab-df-spinner');\n",
              "      quickchartButtonEl.classList.add('colab-df-quickchart-complete');\n",
              "    }\n",
              "    (() => {\n",
              "      let quickchartButtonEl =\n",
              "        document.querySelector('#df-afc8a578-9d22-4e79-841f-8223fb861488 button');\n",
              "      quickchartButtonEl.style.display =\n",
              "        google.colab.kernel.accessAllowed ? 'block' : 'none';\n",
              "    })();\n",
              "  </script>\n",
              "</div>\n",
              "    </div>\n",
              "  </div>\n"
            ],
            "application/vnd.google.colaboratory.intrinsic+json": {
              "type": "dataframe",
              "variable_name": "df",
              "summary": "{\n  \"name\": \"df\",\n  \"rows\": 667,\n  \"fields\": [\n    {\n      \"column\": \"State\",\n      \"properties\": {\n        \"dtype\": \"category\",\n        \"num_unique_values\": 51,\n        \"samples\": [\n          \"MD\",\n          \"ME\",\n          \"ND\"\n        ],\n        \"semantic_type\": \"\",\n        \"description\": \"\"\n      }\n    },\n    {\n      \"column\": \"Account length\",\n      \"properties\": {\n        \"dtype\": \"number\",\n        \"std\": 40,\n        \"min\": 1,\n        \"max\": 232,\n        \"num_unique_values\": 179,\n        \"samples\": [\n          39,\n          108,\n          55\n        ],\n        \"semantic_type\": \"\",\n        \"description\": \"\"\n      }\n    },\n    {\n      \"column\": \"Area code\",\n      \"properties\": {\n        \"dtype\": \"number\",\n        \"std\": 41,\n        \"min\": 408,\n        \"max\": 510,\n        \"num_unique_values\": 3,\n        \"samples\": [\n          408,\n          415,\n          510\n        ],\n        \"semantic_type\": \"\",\n        \"description\": \"\"\n      }\n    },\n    {\n      \"column\": \"International plan\",\n      \"properties\": {\n        \"dtype\": \"category\",\n        \"num_unique_values\": 2,\n        \"samples\": [\n          \"Yes\",\n          \"No\"\n        ],\n        \"semantic_type\": \"\",\n        \"description\": \"\"\n      }\n    },\n    {\n      \"column\": \"Voice mail plan\",\n      \"properties\": {\n        \"dtype\": \"category\",\n        \"num_unique_values\": 2,\n        \"samples\": [\n          \"Yes\",\n          \"No\"\n        ],\n        \"semantic_type\": \"\",\n        \"description\": \"\"\n      }\n    },\n    {\n      \"column\": \"Number vmail messages\",\n      \"properties\": {\n        \"dtype\": \"number\",\n        \"std\": 13,\n        \"min\": 0,\n        \"max\": 51,\n        \"num_unique_values\": 37,\n        \"samples\": [\n          20,\n          35\n        ],\n        \"semantic_type\": \"\",\n        \"description\": \"\"\n      }\n    },\n    {\n      \"column\": \"Total day minutes\",\n      \"properties\": {\n        \"dtype\": \"number\",\n        \"std\": 55.508627757238095,\n        \"min\": 25.9,\n        \"max\": 334.3,\n        \"num_unique_values\": 562,\n        \"samples\": [\n          80.3,\n          205.9\n        ],\n        \"semantic_type\": \"\",\n        \"description\": \"\"\n      }\n    },\n    {\n      \"column\": \"Total day calls\",\n      \"properties\": {\n        \"dtype\": \"number\",\n        \"std\": 20,\n        \"min\": 30,\n        \"max\": 165,\n        \"num_unique_values\": 100,\n        \"samples\": [\n          145,\n          122\n        ],\n        \"semantic_type\": \"\",\n        \"description\": \"\"\n      }\n    },\n    {\n      \"column\": \"Total day charge\",\n      \"properties\": {\n        \"dtype\": \"number\",\n        \"std\": 9.436463453602565,\n        \"min\": 4.4,\n        \"max\": 56.83,\n        \"num_unique_values\": 562,\n        \"samples\": [\n          13.65,\n          35.0\n        ],\n        \"semantic_type\": \"\",\n        \"description\": \"\"\n      }\n    },\n    {\n      \"column\": \"Total eve minutes\",\n      \"properties\": {\n        \"dtype\": \"number\",\n        \"std\": 49.71926848382941,\n        \"min\": 48.1,\n        \"max\": 361.8,\n        \"num_unique_values\": 557,\n        \"samples\": [\n          166.9,\n          222.9\n        ],\n        \"semantic_type\": \"\",\n        \"description\": \"\"\n      }\n    },\n    {\n      \"column\": \"Total eve calls\",\n      \"properties\": {\n        \"dtype\": \"number\",\n        \"std\": 18,\n        \"min\": 37,\n        \"max\": 168,\n        \"num_unique_values\": 94,\n        \"samples\": [\n          69,\n          90\n        ],\n        \"semantic_type\": \"\",\n        \"description\": \"\"\n      }\n    },\n    {\n      \"column\": \"Total eve charge\",\n      \"properties\": {\n        \"dtype\": \"number\",\n        \"std\": 4.226160133395479,\n        \"min\": 4.09,\n        \"max\": 30.75,\n        \"num_unique_values\": 528,\n        \"samples\": [\n          16.76,\n          23.42\n        ],\n        \"semantic_type\": \"\",\n        \"description\": \"\"\n      }\n    },\n    {\n      \"column\": \"Total night minutes\",\n      \"properties\": {\n        \"dtype\": \"number\",\n        \"std\": 49.7599308151923,\n        \"min\": 23.2,\n        \"max\": 367.7,\n        \"num_unique_values\": 568,\n        \"samples\": [\n          229.9,\n          209.3\n        ],\n        \"semantic_type\": \"\",\n        \"description\": \"\"\n      }\n    },\n    {\n      \"column\": \"Total night calls\",\n      \"properties\": {\n        \"dtype\": \"number\",\n        \"std\": 20,\n        \"min\": 42,\n        \"max\": 175,\n        \"num_unique_values\": 96,\n        \"samples\": [\n          73,\n          155\n        ],\n        \"semantic_type\": \"\",\n        \"description\": \"\"\n      }\n    },\n    {\n      \"column\": \"Total night charge\",\n      \"properties\": {\n        \"dtype\": \"number\",\n        \"std\": 2.239428996772818,\n        \"min\": 1.04,\n        \"max\": 16.55,\n        \"num_unique_values\": 453,\n        \"samples\": [\n          10.44,\n          8.71\n        ],\n        \"semantic_type\": \"\",\n        \"description\": \"\"\n      }\n    },\n    {\n      \"column\": \"Total intl minutes\",\n      \"properties\": {\n        \"dtype\": \"number\",\n        \"std\": 2.807849746177429,\n        \"min\": 0.0,\n        \"max\": 18.3,\n        \"num_unique_values\": 132,\n        \"samples\": [\n          14.3,\n          15.1\n        ],\n        \"semantic_type\": \"\",\n        \"description\": \"\"\n      }\n    },\n    {\n      \"column\": \"Total intl calls\",\n      \"properties\": {\n        \"dtype\": \"number\",\n        \"std\": 2,\n        \"min\": 0,\n        \"max\": 18,\n        \"num_unique_values\": 17,\n        \"samples\": [\n          4,\n          6\n        ],\n        \"semantic_type\": \"\",\n        \"description\": \"\"\n      }\n    },\n    {\n      \"column\": \"Total intl charge\",\n      \"properties\": {\n        \"dtype\": \"number\",\n        \"std\": 0.758166819817248,\n        \"min\": 0.0,\n        \"max\": 4.94,\n        \"num_unique_values\": 132,\n        \"samples\": [\n          3.86,\n          4.08\n        ],\n        \"semantic_type\": \"\",\n        \"description\": \"\"\n      }\n    },\n    {\n      \"column\": \"Customer service calls\",\n      \"properties\": {\n        \"dtype\": \"number\",\n        \"std\": 1,\n        \"min\": 0,\n        \"max\": 8,\n        \"num_unique_values\": 9,\n        \"samples\": [\n          8,\n          4\n        ],\n        \"semantic_type\": \"\",\n        \"description\": \"\"\n      }\n    },\n    {\n      \"column\": \"Churn\",\n      \"properties\": {\n        \"dtype\": \"boolean\",\n        \"num_unique_values\": 2,\n        \"samples\": [\n          true,\n          false\n        ],\n        \"semantic_type\": \"\",\n        \"description\": \"\"\n      }\n    }\n  ]\n}"
            }
          },
          "metadata": {},
          "execution_count": 9
        }
      ]
    },
    {
      "cell_type": "code",
      "source": [
        "df.shape"
      ],
      "metadata": {
        "id": "sgEYzD0S3gs3",
        "outputId": "7fe534b5-5d88-4ae7-8668-1e9d8d2819be",
        "colab": {
          "base_uri": "https://localhost:8080/"
        }
      },
      "execution_count": 10,
      "outputs": [
        {
          "output_type": "execute_result",
          "data": {
            "text/plain": [
              "(667, 20)"
            ]
          },
          "metadata": {},
          "execution_count": 10
        }
      ]
    },
    {
      "cell_type": "code",
      "source": [
        "df.columns"
      ],
      "metadata": {
        "id": "Vr4UpPHt3myX",
        "outputId": "05f64e84-9782-4abd-971f-f9843b29c8fc",
        "colab": {
          "base_uri": "https://localhost:8080/"
        }
      },
      "execution_count": 11,
      "outputs": [
        {
          "output_type": "execute_result",
          "data": {
            "text/plain": [
              "Index(['State', 'Account length', 'Area code', 'International plan',\n",
              "       'Voice mail plan', 'Number vmail messages', 'Total day minutes',\n",
              "       'Total day calls', 'Total day charge', 'Total eve minutes',\n",
              "       'Total eve calls', 'Total eve charge', 'Total night minutes',\n",
              "       'Total night calls', 'Total night charge', 'Total intl minutes',\n",
              "       'Total intl calls', 'Total intl charge', 'Customer service calls',\n",
              "       'Churn'],\n",
              "      dtype='object')"
            ]
          },
          "metadata": {},
          "execution_count": 11
        }
      ]
    },
    {
      "cell_type": "code",
      "source": [
        "df.isnull().sum()"
      ],
      "metadata": {
        "id": "AezXUdUD3psq",
        "outputId": "3047ec17-1aad-4298-8934-e4fd22273000",
        "colab": {
          "base_uri": "https://localhost:8080/"
        }
      },
      "execution_count": 12,
      "outputs": [
        {
          "output_type": "execute_result",
          "data": {
            "text/plain": [
              "State                     0\n",
              "Account length            0\n",
              "Area code                 0\n",
              "International plan        0\n",
              "Voice mail plan           0\n",
              "Number vmail messages     0\n",
              "Total day minutes         0\n",
              "Total day calls           0\n",
              "Total day charge          0\n",
              "Total eve minutes         0\n",
              "Total eve calls           0\n",
              "Total eve charge          0\n",
              "Total night minutes       0\n",
              "Total night calls         0\n",
              "Total night charge        0\n",
              "Total intl minutes        0\n",
              "Total intl calls          0\n",
              "Total intl charge         0\n",
              "Customer service calls    0\n",
              "Churn                     0\n",
              "dtype: int64"
            ]
          },
          "metadata": {},
          "execution_count": 12
        }
      ]
    },
    {
      "cell_type": "code",
      "source": [
        "df = df.drop(columns=['State'])"
      ],
      "metadata": {
        "id": "JnvV7mMnylSU"
      },
      "execution_count": 13,
      "outputs": []
    },
    {
      "cell_type": "code",
      "source": [
        "from sklearn.preprocessing import LabelEncoder\n",
        "\n",
        "columns=['Voice mail plan','International plan','Churn']\n",
        "\n",
        "for i in columns:\n",
        "  encoder = LabelEncoder()\n",
        "  df[i] = encoder.fit_transform(df[i])"
      ],
      "metadata": {
        "id": "KnrVsgMVyl45"
      },
      "execution_count": 14,
      "outputs": []
    },
    {
      "cell_type": "code",
      "source": [
        "from sklearn.preprocessing import StandardScaler\n",
        "\n",
        "dataScale = df.drop(columns=['Churn'])\n",
        "for i in dataScale.columns:\n",
        "    scale = StandardScaler()\n",
        "    df[i] = scale.fit_transform(df[i].values.reshape(-1, 1))"
      ],
      "metadata": {
        "id": "oJetAMU5yntO"
      },
      "execution_count": 15,
      "outputs": []
    },
    {
      "cell_type": "code",
      "source": [
        "x = df.drop(columns=['Churn'])\n",
        "y = df['Churn']"
      ],
      "metadata": {
        "id": "fkewOrMxypkX"
      },
      "execution_count": 16,
      "outputs": []
    },
    {
      "cell_type": "markdown",
      "source": [
        "Spltting data"
      ],
      "metadata": {
        "id": "Qs30wAIsyvOt"
      }
    },
    {
      "cell_type": "code",
      "source": [
        "X_train, X_val, y_train, y_val = train_test_split(x, y, test_size=0.2, random_state=42)"
      ],
      "metadata": {
        "id": "OFeojGX5yrU8"
      },
      "execution_count": 17,
      "outputs": []
    },
    {
      "cell_type": "markdown",
      "source": [
        "# Baseline DNN Architecture\n",
        "constructing a simple baseline DNN architecture without any dropout layers."
      ],
      "metadata": {
        "id": "PQgipFwPy0JG"
      }
    },
    {
      "cell_type": "code",
      "source": [
        "import tensorflow as tf\n",
        "from tensorflow.keras.models import Sequential\n",
        "from tensorflow.keras.layers import Dense\n",
        "from sklearn.metrics import accuracy_score\n",
        "\n",
        "\n",
        "def baseline_model():\n",
        "    model = Sequential([\n",
        "        Dense(128, activation='relu', input_shape=(X_train.shape[1],)),\n",
        "        Dense(64, activation='relu'),\n",
        "        Dense(32, activation='relu'),\n",
        "        Dense(1, activation='sigmoid')\n",
        "    ])\n",
        "\n",
        "    model.compile(optimizer='adam',\n",
        "                  loss='binary_crossentropy',\n",
        "                  metrics=['accuracy'])\n",
        "\n",
        "    return model\n",
        "\n",
        "baseline_model = baseline_model()\n",
        "baseline_history = baseline_model.fit(X_train, y_train, validation_data=(X_val, y_val), epochs=10, batch_size=32)\n",
        "\n",
        "baseline_model.evaluate(X_val, y_val)\n",
        "\n",
        "baseline_predictions = baseline_model.predict(X_val)\n",
        "baseline_pred_labels = (baseline_predictions > 0.5).astype(int)\n",
        "\n",
        "baseline_accuracy = accuracy_score(y_val, baseline_pred_labels)\n",
        "print(f'Baseline Model Accuracy: {baseline_accuracy}')\n",
        "\n",
        "baseline_f1_score = f1_score(y_val, baseline_pred_labels)\n",
        "print(f'Baseline Model F1 Score: {baseline_f1_score}')\n",
        "\n",
        "baseline_roc_auc = roc_auc_score(y_val, baseline_pred_labels)\n",
        "print(f'Baseline Model roc Score: {baseline_roc_auc}')"
      ],
      "metadata": {
        "id": "8tz5SO9Jyxkq",
        "outputId": "6b4ba594-333e-4a02-9fbc-3614ef6c6771",
        "colab": {
          "base_uri": "https://localhost:8080/"
        }
      },
      "execution_count": 18,
      "outputs": [
        {
          "output_type": "stream",
          "name": "stdout",
          "text": [
            "Epoch 1/10\n",
            "17/17 [==============================] - 2s 23ms/step - loss: 0.5702 - accuracy: 0.7899 - val_loss: 0.4235 - val_accuracy: 0.8881\n",
            "Epoch 2/10\n",
            "17/17 [==============================] - 0s 7ms/step - loss: 0.4102 - accuracy: 0.8499 - val_loss: 0.3479 - val_accuracy: 0.8881\n",
            "Epoch 3/10\n",
            "17/17 [==============================] - 0s 5ms/step - loss: 0.3641 - accuracy: 0.8499 - val_loss: 0.3264 - val_accuracy: 0.8881\n",
            "Epoch 4/10\n",
            "17/17 [==============================] - 0s 8ms/step - loss: 0.3256 - accuracy: 0.8593 - val_loss: 0.2993 - val_accuracy: 0.9254\n",
            "Epoch 5/10\n",
            "17/17 [==============================] - 0s 5ms/step - loss: 0.2936 - accuracy: 0.8856 - val_loss: 0.2752 - val_accuracy: 0.9328\n",
            "Epoch 6/10\n",
            "17/17 [==============================] - 0s 7ms/step - loss: 0.2624 - accuracy: 0.9024 - val_loss: 0.2593 - val_accuracy: 0.9179\n",
            "Epoch 7/10\n",
            "17/17 [==============================] - 0s 6ms/step - loss: 0.2338 - accuracy: 0.9062 - val_loss: 0.2413 - val_accuracy: 0.9328\n",
            "Epoch 8/10\n",
            "17/17 [==============================] - 0s 6ms/step - loss: 0.2063 - accuracy: 0.9212 - val_loss: 0.2389 - val_accuracy: 0.9179\n",
            "Epoch 9/10\n",
            "17/17 [==============================] - 0s 5ms/step - loss: 0.1829 - accuracy: 0.9362 - val_loss: 0.2306 - val_accuracy: 0.9403\n",
            "Epoch 10/10\n",
            "17/17 [==============================] - 0s 6ms/step - loss: 0.1632 - accuracy: 0.9493 - val_loss: 0.2269 - val_accuracy: 0.9328\n",
            "5/5 [==============================] - 0s 4ms/step - loss: 0.2269 - accuracy: 0.9328\n",
            "5/5 [==============================] - 0s 4ms/step\n",
            "Baseline Model Accuracy: 0.9328358208955224\n",
            "Baseline Model F1 Score: 0.689655172413793\n",
            "Baseline Model roc Score: 0.8165266106442576\n"
          ]
        }
      ]
    },
    {
      "cell_type": "markdown",
      "source": [
        "Implementing Dropout\n",
        "introducing dropout layers to the model to help prevent overfitting. Dropout is a regularization technique that randomly sets input units to 0 with a frequency of the rate at each step during training time, which helps prevent overfitting by making the neural network's architecture more robust."
      ],
      "metadata": {
        "id": "O0FAmK0GzALG"
      }
    },
    {
      "cell_type": "code",
      "source": [
        "def dropout_model():\n",
        "    model = Sequential([\n",
        "        Dense(128, activation='relu', input_shape=(X_train.shape[1],)),\n",
        "        tf.keras.layers.Dropout(0.5),\n",
        "        Dense(64, activation='relu'),\n",
        "        tf.keras.layers.Dropout(0.5),\n",
        "        Dense(32, activation='relu'),\n",
        "        tf.keras.layers.Dropout(0.5),\n",
        "        Dense(1, activation='sigmoid')\n",
        "    ])\n",
        "\n",
        "    model.compile(optimizer='adam',\n",
        "                  loss='binary_crossentropy',\n",
        "                  metrics=['accuracy'])\n",
        "\n",
        "    return model\n",
        "\n",
        "dropout_model = dropout_model()\n",
        "dropout_history = dropout_model.fit(X_train, y_train, validation_data=(X_val, y_val), epochs=10, batch_size=32)\n",
        "\n",
        "dropout_model.evaluate(X_val, y_val)\n",
        "\n",
        "dropout_predictions = dropout_model.predict(X_val)\n",
        "dropout_pred_labels = (dropout_predictions > 0.5).astype(int)\n",
        "\n",
        "dropout_accuracy = accuracy_score(y_val, dropout_pred_labels)\n",
        "print(f'Dropout Model Accuracy: {dropout_accuracy}')\n",
        "\n",
        "dropout_f1_score = f1_score(y_val, dropout_pred_labels)\n",
        "print(f'Dropout Model F1 Score: {dropout_f1_score}')\n",
        "\n",
        "dropout_roc_auc = roc_auc_score(y_val, dropout_pred_labels)\n",
        "print(f'Baseline Model roc Score: {dropout_roc_auc}')"
      ],
      "metadata": {
        "id": "zV65t5aey-29",
        "outputId": "01a0f955-ebd2-4e73-bdd9-b642eb2f3532",
        "colab": {
          "base_uri": "https://localhost:8080/"
        }
      },
      "execution_count": 19,
      "outputs": [
        {
          "output_type": "stream",
          "name": "stdout",
          "text": [
            "Epoch 1/10\n",
            "17/17 [==============================] - 2s 21ms/step - loss: 0.6893 - accuracy: 0.6154 - val_loss: 0.5242 - val_accuracy: 0.8881\n",
            "Epoch 2/10\n",
            "17/17 [==============================] - 0s 8ms/step - loss: 0.5311 - accuracy: 0.8161 - val_loss: 0.4358 - val_accuracy: 0.8881\n",
            "Epoch 3/10\n",
            "17/17 [==============================] - 0s 7ms/step - loss: 0.4497 - accuracy: 0.8311 - val_loss: 0.4031 - val_accuracy: 0.8881\n",
            "Epoch 4/10\n",
            "17/17 [==============================] - 0s 7ms/step - loss: 0.4500 - accuracy: 0.8462 - val_loss: 0.3891 - val_accuracy: 0.8881\n",
            "Epoch 5/10\n",
            "17/17 [==============================] - 0s 7ms/step - loss: 0.4817 - accuracy: 0.8386 - val_loss: 0.3817 - val_accuracy: 0.8881\n",
            "Epoch 6/10\n",
            "17/17 [==============================] - 0s 7ms/step - loss: 0.4390 - accuracy: 0.8424 - val_loss: 0.3731 - val_accuracy: 0.8881\n",
            "Epoch 7/10\n",
            "17/17 [==============================] - 0s 7ms/step - loss: 0.4438 - accuracy: 0.8424 - val_loss: 0.3643 - val_accuracy: 0.8881\n",
            "Epoch 8/10\n",
            "17/17 [==============================] - 0s 6ms/step - loss: 0.4071 - accuracy: 0.8518 - val_loss: 0.3538 - val_accuracy: 0.8881\n",
            "Epoch 9/10\n",
            "17/17 [==============================] - 0s 7ms/step - loss: 0.4152 - accuracy: 0.8480 - val_loss: 0.3466 - val_accuracy: 0.8881\n",
            "Epoch 10/10\n",
            "17/17 [==============================] - 0s 8ms/step - loss: 0.3870 - accuracy: 0.8518 - val_loss: 0.3399 - val_accuracy: 0.8881\n",
            "5/5 [==============================] - 0s 4ms/step - loss: 0.3399 - accuracy: 0.8881\n",
            "5/5 [==============================] - 0s 4ms/step\n",
            "Dropout Model Accuracy: 0.8880597014925373\n",
            "Dropout Model F1 Score: 0.0\n",
            "Baseline Model roc Score: 0.5\n"
          ]
        }
      ]
    },
    {
      "cell_type": "markdown",
      "source": [
        "In the above code, a dropout rate of 0.5 is introduced after each hidden layer, which means approximately half of the neurons' outputs will be randomly set to zero during each training epoch. This encourages the network to learn more robust features that are not reliant on any small set of neurons."
      ],
      "metadata": {
        "id": "Zmk-2IC8zLti"
      }
    },
    {
      "cell_type": "markdown",
      "source": [
        "# Implementing Layer-wise Dropout"
      ],
      "metadata": {
        "id": "jTWLYX6Q0ly9"
      }
    },
    {
      "cell_type": "code",
      "source": [
        "def layerwise_dropout_model():\n",
        "    model = Sequential([\n",
        "        Dense(128, activation='relu', input_shape=(X_train.shape[1],)),\n",
        "        tf.keras.layers.Dropout(0.2),\n",
        "        Dense(64, activation='relu'),\n",
        "        tf.keras.layers.Dropout(0.3),\n",
        "        Dense(32, activation='relu'),\n",
        "        tf.keras.layers.Dropout(0.4),\n",
        "        Dense(1, activation='sigmoid')\n",
        "    ])\n",
        "\n",
        "    model.compile(optimizer='adam',\n",
        "                  loss='binary_crossentropy',\n",
        "                  metrics=['accuracy'])\n",
        "\n",
        "    return model\n",
        "\n",
        "layerwise_dropout_model = layerwise_dropout_model()\n",
        "layerwise_dropout_history = layerwise_dropout_model.fit(X_train, y_train, validation_data=(X_val, y_val), epochs=10, batch_size=32)\n",
        "\n",
        "layerwise_dropout_evaluation = layerwise_dropout_model.evaluate(X_val, y_val)\n",
        "print(\"Layer-wise Dropout Model Evaluation:\", layerwise_dropout_evaluation)\n",
        "\n",
        "layerwise_dropout_predictions = layerwise_dropout_model.predict(X_val)\n",
        "layerwise_dropout_pred_labels = (layerwise_dropout_predictions > 0.5).astype(int)\n",
        "\n",
        "layerwise_dropout_accuracy = accuracy_score(y_val, layerwise_dropout_pred_labels)\n",
        "print(f'Layer-wise Dropout Model Accuracy: {layerwise_dropout_accuracy}')\n",
        "\n",
        "layerwise_dropout_f1_score = f1_score(y_val, layerwise_dropout_pred_labels)\n",
        "print(f'Layer-wise Dropout Model F1 Score: {layerwise_dropout_f1_score}')\n",
        "\n",
        "layerwise_roc_auc = roc_auc_score(y_val, layerwise_dropout_pred_labels)\n",
        "print(f'Baseline Model roc Score: {layerwise_roc_auc}')"
      ],
      "metadata": {
        "id": "3PGQUCGBzEU0",
        "outputId": "266fcfbe-ea6c-4658-bd6e-88f5b8dba1b1",
        "colab": {
          "base_uri": "https://localhost:8080/"
        }
      },
      "execution_count": 20,
      "outputs": [
        {
          "output_type": "stream",
          "name": "stdout",
          "text": [
            "Epoch 1/10\n",
            "17/17 [==============================] - 2s 19ms/step - loss: 0.6722 - accuracy: 0.5929 - val_loss: 0.5017 - val_accuracy: 0.8881\n",
            "Epoch 2/10\n",
            "17/17 [==============================] - 0s 7ms/step - loss: 0.5022 - accuracy: 0.8330 - val_loss: 0.4014 - val_accuracy: 0.8881\n",
            "Epoch 3/10\n",
            "17/17 [==============================] - 0s 6ms/step - loss: 0.4447 - accuracy: 0.8480 - val_loss: 0.3620 - val_accuracy: 0.8881\n",
            "Epoch 4/10\n",
            "17/17 [==============================] - 0s 7ms/step - loss: 0.4304 - accuracy: 0.8537 - val_loss: 0.3442 - val_accuracy: 0.8881\n",
            "Epoch 5/10\n",
            "17/17 [==============================] - 0s 6ms/step - loss: 0.3674 - accuracy: 0.8649 - val_loss: 0.3194 - val_accuracy: 0.8955\n",
            "Epoch 6/10\n",
            "17/17 [==============================] - 0s 6ms/step - loss: 0.3563 - accuracy: 0.8612 - val_loss: 0.3003 - val_accuracy: 0.9030\n",
            "Epoch 7/10\n",
            "17/17 [==============================] - 0s 6ms/step - loss: 0.3053 - accuracy: 0.8912 - val_loss: 0.2917 - val_accuracy: 0.9328\n",
            "Epoch 8/10\n",
            "17/17 [==============================] - 0s 6ms/step - loss: 0.3190 - accuracy: 0.8724 - val_loss: 0.2821 - val_accuracy: 0.9328\n",
            "Epoch 9/10\n",
            "17/17 [==============================] - 0s 7ms/step - loss: 0.3128 - accuracy: 0.8649 - val_loss: 0.2691 - val_accuracy: 0.9254\n",
            "Epoch 10/10\n",
            "17/17 [==============================] - 0s 6ms/step - loss: 0.2839 - accuracy: 0.8968 - val_loss: 0.2555 - val_accuracy: 0.9179\n",
            "5/5 [==============================] - 0s 6ms/step - loss: 0.2555 - accuracy: 0.9179\n",
            "Layer-wise Dropout Model Evaluation: [0.25552669167518616, 0.9179104566574097]\n",
            "5/5 [==============================] - 0s 5ms/step\n",
            "Layer-wise Dropout Model Accuracy: 0.917910447761194\n",
            "Layer-wise Dropout Model F1 Score: 0.5925925925925926\n",
            "Baseline Model roc Score: 0.7498599439775909\n"
          ]
        }
      ]
    },
    {
      "cell_type": "markdown",
      "source": [
        "In this implementation, the dropout rate increases with each subsequent hidden layer. The rationale behind layer-wise varying dropout rates could be based on the hypothesis that different representations captured at different depths of the network might require different regularization strengths.\n",
        "\n",
        "The first hidden layer has a lower dropout rate (0.2), assuming that initial feature representations are more general and less prone to overfitting. Subsequent layers have progressively higher dropout rates (0.3 and 0.4), hypothesizing that deeper representations might capture more complex patterns that could lead to overfitting. This is a strategy to experiment with; the effectiveness of dropout, including the specific rates used, can depend heavily on the dataset and problem at hand."
      ],
      "metadata": {
        "id": "PW99dq5DzVih"
      }
    },
    {
      "cell_type": "markdown",
      "source": [
        "# Implementing Monte Carlo (MC) Dropout\n",
        "\n",
        "\n",
        "\n",
        "1.   Implementing Monte Carlo Dropout allows the model to express uncertainty in its predictions, which can be particularly useful in critical applications where decision-making processes benefit from understanding the confidence level of the predictions.\n",
        "\n",
        "\n"
      ],
      "metadata": {
        "id": "0yxqe6nXzz5n"
      }
    },
    {
      "cell_type": "code",
      "source": [
        "\n",
        "def make_mc_predictions(model, inputs, num_samples=100):\n",
        "    predictions = []\n",
        "    for _ in range(num_samples):\n",
        "        preds = model.predict(inputs)\n",
        "        predictions.append(preds)\n",
        "    predictions = np.array(predictions)\n",
        "    mean_preds = np.mean(predictions, axis=0)\n",
        "    return mean_preds\n",
        "\n",
        "mc_predictions = make_mc_predictions(dropout_model, X_val)\n",
        "\n",
        "mc_pred_labels = (mc_predictions > 0.5).astype(int)\n",
        "\n",
        "mc_accuracy = accuracy_score(y_val, mc_pred_labels)\n",
        "print(f'MC Dropout Model Accuracy: {mc_accuracy}')\n",
        "\n",
        "mc_f1_score = f1_score(y_val, mc_pred_labels)\n",
        "print(f'MC Dropout Model F1 Score: {mc_f1_score}')\n",
        "\n",
        "mc_roc_auc = roc_auc_score(y_val, mc_pred_labels)\n",
        "print(f'Baseline Model roc Score: {mc_roc_auc}')"
      ],
      "metadata": {
        "id": "3pvX6cK-zQwM",
        "outputId": "d349448b-f6c7-4274-b53e-147b5ffb54dd",
        "colab": {
          "base_uri": "https://localhost:8080/"
        }
      },
      "execution_count": 21,
      "outputs": [
        {
          "output_type": "stream",
          "name": "stdout",
          "text": [
            "5/5 [==============================] - 0s 4ms/step\n",
            "5/5 [==============================] - 0s 4ms/step\n",
            "5/5 [==============================] - 0s 4ms/step\n",
            "5/5 [==============================] - 0s 4ms/step\n",
            "5/5 [==============================] - 0s 3ms/step\n",
            "5/5 [==============================] - 0s 5ms/step\n",
            "5/5 [==============================] - 0s 4ms/step\n",
            "5/5 [==============================] - 0s 4ms/step\n",
            "5/5 [==============================] - 0s 3ms/step\n",
            "5/5 [==============================] - 0s 3ms/step\n",
            "5/5 [==============================] - 0s 3ms/step\n",
            "5/5 [==============================] - 0s 3ms/step\n",
            "5/5 [==============================] - 0s 3ms/step\n",
            "5/5 [==============================] - 0s 3ms/step\n",
            "5/5 [==============================] - 0s 3ms/step\n",
            "5/5 [==============================] - 0s 3ms/step\n",
            "5/5 [==============================] - 0s 3ms/step\n",
            "5/5 [==============================] - 0s 3ms/step\n",
            "5/5 [==============================] - 0s 3ms/step\n",
            "5/5 [==============================] - 0s 3ms/step\n",
            "5/5 [==============================] - 0s 4ms/step\n",
            "5/5 [==============================] - 0s 3ms/step\n",
            "5/5 [==============================] - 0s 3ms/step\n",
            "5/5 [==============================] - 0s 4ms/step\n",
            "5/5 [==============================] - 0s 3ms/step\n",
            "5/5 [==============================] - 0s 3ms/step\n",
            "5/5 [==============================] - 0s 3ms/step\n",
            "5/5 [==============================] - 0s 4ms/step\n",
            "5/5 [==============================] - 0s 3ms/step\n",
            "5/5 [==============================] - 0s 3ms/step\n",
            "5/5 [==============================] - 0s 3ms/step\n",
            "5/5 [==============================] - 0s 3ms/step\n",
            "5/5 [==============================] - 0s 3ms/step\n",
            "5/5 [==============================] - 0s 4ms/step\n",
            "5/5 [==============================] - 0s 3ms/step\n",
            "5/5 [==============================] - 0s 3ms/step\n",
            "5/5 [==============================] - 0s 4ms/step\n",
            "5/5 [==============================] - 0s 4ms/step\n",
            "5/5 [==============================] - 0s 3ms/step\n",
            "5/5 [==============================] - 0s 3ms/step\n",
            "5/5 [==============================] - 0s 3ms/step\n",
            "5/5 [==============================] - 0s 3ms/step\n",
            "5/5 [==============================] - 0s 4ms/step\n",
            "5/5 [==============================] - 0s 3ms/step\n",
            "5/5 [==============================] - 0s 3ms/step\n",
            "5/5 [==============================] - 0s 5ms/step\n",
            "5/5 [==============================] - 0s 3ms/step\n",
            "5/5 [==============================] - 0s 3ms/step\n",
            "5/5 [==============================] - 0s 3ms/step\n",
            "5/5 [==============================] - 0s 3ms/step\n",
            "5/5 [==============================] - 0s 3ms/step\n",
            "5/5 [==============================] - 0s 3ms/step\n",
            "5/5 [==============================] - 0s 3ms/step\n",
            "5/5 [==============================] - 0s 4ms/step\n",
            "5/5 [==============================] - 0s 3ms/step\n",
            "5/5 [==============================] - 0s 3ms/step\n",
            "5/5 [==============================] - 0s 3ms/step\n",
            "5/5 [==============================] - 0s 3ms/step\n",
            "5/5 [==============================] - 0s 3ms/step\n",
            "5/5 [==============================] - 0s 4ms/step\n",
            "5/5 [==============================] - 0s 3ms/step\n",
            "5/5 [==============================] - 0s 3ms/step\n",
            "5/5 [==============================] - 0s 3ms/step\n",
            "5/5 [==============================] - 0s 3ms/step\n",
            "5/5 [==============================] - 0s 3ms/step\n",
            "5/5 [==============================] - 0s 4ms/step\n",
            "5/5 [==============================] - 0s 3ms/step\n",
            "5/5 [==============================] - 0s 4ms/step\n",
            "5/5 [==============================] - 0s 3ms/step\n",
            "5/5 [==============================] - 0s 3ms/step\n",
            "5/5 [==============================] - 0s 3ms/step\n",
            "5/5 [==============================] - 0s 3ms/step\n",
            "5/5 [==============================] - 0s 3ms/step\n",
            "5/5 [==============================] - 0s 3ms/step\n",
            "5/5 [==============================] - 0s 3ms/step\n",
            "5/5 [==============================] - 0s 4ms/step\n",
            "5/5 [==============================] - 0s 3ms/step\n",
            "5/5 [==============================] - 0s 3ms/step\n",
            "5/5 [==============================] - 0s 3ms/step\n",
            "5/5 [==============================] - 0s 3ms/step\n",
            "5/5 [==============================] - 0s 4ms/step\n",
            "5/5 [==============================] - 0s 5ms/step\n",
            "5/5 [==============================] - 0s 5ms/step\n",
            "5/5 [==============================] - 0s 5ms/step\n",
            "5/5 [==============================] - 0s 5ms/step\n",
            "5/5 [==============================] - 0s 4ms/step\n",
            "5/5 [==============================] - 0s 4ms/step\n",
            "5/5 [==============================] - 0s 3ms/step\n",
            "5/5 [==============================] - 0s 5ms/step\n",
            "5/5 [==============================] - 0s 5ms/step\n",
            "5/5 [==============================] - 0s 4ms/step\n",
            "5/5 [==============================] - 0s 5ms/step\n",
            "5/5 [==============================] - 0s 4ms/step\n",
            "5/5 [==============================] - 0s 3ms/step\n",
            "5/5 [==============================] - 0s 3ms/step\n",
            "5/5 [==============================] - 0s 6ms/step\n",
            "5/5 [==============================] - 0s 6ms/step\n",
            "5/5 [==============================] - 0s 5ms/step\n",
            "5/5 [==============================] - 0s 5ms/step\n",
            "5/5 [==============================] - 0s 4ms/step\n",
            "MC Dropout Model Accuracy: 0.8880597014925373\n",
            "MC Dropout Model F1 Score: 0.0\n",
            "Baseline Model roc Score: 0.5\n"
          ]
        }
      ]
    },
    {
      "cell_type": "markdown",
      "source": [
        "# Function to Plot Accuracy and Loss Curves"
      ],
      "metadata": {
        "id": "bdsxQy-t01t3"
      }
    },
    {
      "cell_type": "code",
      "source": [
        "import matplotlib.pyplot as plt\n",
        "def plot_history(history, title=\"\"):\n",
        "    acc = history.history['accuracy']\n",
        "    val_acc = history.history['val_accuracy']\n",
        "    loss = history.history['loss']\n",
        "    val_loss = history.history['val_loss']\n",
        "    epochs = range(1, len(acc) + 1)\n",
        "\n",
        "    plt.figure(figsize=(12, 5))\n",
        "\n",
        "    plt.subplot(1, 2, 1)\n",
        "    plt.plot(epochs, acc, 'bo', label='Training acc')\n",
        "    plt.plot(epochs, val_acc, 'b', label='Validation acc')\n",
        "    plt.title('Training and validation accuracy ' + title)\n",
        "    plt.xlabel('Epochs')\n",
        "    plt.ylabel('Accuracy')\n",
        "    plt.legend()\n",
        "\n",
        "    plt.subplot(1, 2, 2)\n",
        "    plt.plot(epochs, loss, 'bo', label='Training loss')\n",
        "    plt.plot(epochs, val_loss, 'b', label='Validation loss')\n",
        "    plt.title('Training and validation loss ' + title)\n",
        "    plt.xlabel('Epochs')\n",
        "    plt.ylabel('Loss')\n",
        "    plt.legend()\n",
        "\n",
        "    plt.tight_layout()\n",
        "    plt.show()"
      ],
      "metadata": {
        "id": "Ci440h8F01Nl"
      },
      "execution_count": 22,
      "outputs": []
    },
    {
      "cell_type": "code",
      "source": [
        "print(f'Baseline Model Accuracy: {baseline_accuracy}')\n",
        "print(f'Baseline Model F1 Score: {baseline_f1_score}')\n",
        "print(f'Baseline Model roc Score: {baseline_roc_auc}')\n",
        "\n",
        "print()\n",
        "print(f'Dropout Model Accuracy: {dropout_accuracy}')\n",
        "print(f'Dropout Model F1 Score: {dropout_f1_score}')\n",
        "print(f'Baseline Model roc Score: {dropout_roc_auc}')\n",
        "\n",
        "print()\n",
        "print(f'Layer-wise Dropout Model Accuracy: {layerwise_dropout_accuracy}')\n",
        "print(f'Layer-wise Dropout Model F1 Score: {layerwise_dropout_f1_score}')\n",
        "print(f'Baseline Model roc Score: {layerwise_roc_auc}')\n",
        "\n",
        "print()\n",
        "print(f'MC Dropout Model Accuracy: {mc_accuracy}')\n",
        "print(f'MC Dropout Model F1 Score: {mc_f1_score}')\n",
        "print(f'Baseline Model roc Score: {mc_roc_auc}')"
      ],
      "metadata": {
        "id": "kFsO0myQ0r84",
        "outputId": "311f0633-d846-4823-f442-c46e95aab295",
        "colab": {
          "base_uri": "https://localhost:8080/"
        }
      },
      "execution_count": 23,
      "outputs": [
        {
          "output_type": "stream",
          "name": "stdout",
          "text": [
            "Baseline Model Accuracy: 0.9328358208955224\n",
            "Baseline Model F1 Score: 0.689655172413793\n",
            "Baseline Model roc Score: 0.8165266106442576\n",
            "\n",
            "Dropout Model Accuracy: 0.8880597014925373\n",
            "Dropout Model F1 Score: 0.0\n",
            "Baseline Model roc Score: 0.5\n",
            "\n",
            "Layer-wise Dropout Model Accuracy: 0.917910447761194\n",
            "Layer-wise Dropout Model F1 Score: 0.5925925925925926\n",
            "Baseline Model roc Score: 0.7498599439775909\n",
            "\n",
            "MC Dropout Model Accuracy: 0.8880597014925373\n",
            "MC Dropout Model F1 Score: 0.0\n",
            "Baseline Model roc Score: 0.5\n"
          ]
        }
      ]
    },
    {
      "cell_type": "markdown",
      "source": [
        "# Baseline Model"
      ],
      "metadata": {
        "id": "dIVMRnBK1FFT"
      }
    },
    {
      "cell_type": "code",
      "source": [
        "plot_history(baseline_history, title=\"(Baseline Model)\")"
      ],
      "metadata": {
        "id": "3bn7F8OU1Ez0",
        "outputId": "473f814c-3f1c-4762-fbca-c8cd48895750",
        "colab": {
          "base_uri": "https://localhost:8080/",
          "height": 493
        }
      },
      "execution_count": 24,
      "outputs": [
        {
          "output_type": "display_data",
          "data": {
            "text/plain": [
              "<Figure size 1200x500 with 2 Axes>"
            ],
            "image/png": "[encoded data removed]"
          },
          "metadata": {}
        }
      ]
    },
    {
      "cell_type": "markdown",
      "source": [
        "# Model with Dropout"
      ],
      "metadata": {
        "id": "oPfldFcN1Ki7"
      }
    },
    {
      "cell_type": "code",
      "source": [
        "plot_history(dropout_history, title=\"(Dropout Model)\")"
      ],
      "metadata": {
        "id": "gwe9qLnf1Ahx",
        "outputId": "3dabb5d3-e6c1-4340-f82c-7913ce535f81",
        "colab": {
          "base_uri": "https://localhost:8080/",
          "height": 493
        }
      },
      "execution_count": 25,
      "outputs": [
        {
          "output_type": "display_data",
          "data": {
            "text/plain": [
              "<Figure size 1200x500 with 2 Axes>"
            ],
            "image/png": "[encoded data removed]"
          },
          "metadata": {}
        }
      ]
    },
    {
      "cell_type": "markdown",
      "source": [
        "# Model with Layer-wise Dropout"
      ],
      "metadata": {
        "id": "-lS7JXuY1Tx9"
      }
    },
    {
      "cell_type": "code",
      "source": [
        "plot_history(layerwise_dropout_history, title=\"(Layer-wise Dropout Model)\")"
      ],
      "metadata": {
        "id": "ebAsfXx11WUV",
        "outputId": "73a1a6d2-06ff-434e-df8f-a7539391b595",
        "colab": {
          "base_uri": "https://localhost:8080/",
          "height": 493
        }
      },
      "execution_count": 26,
      "outputs": [
        {
          "output_type": "display_data",
          "data": {
            "text/plain": [
              "<Figure size 1200x500 with 2 Axes>"
            ],
            "image/png": "[encoded data removed]"
          },
          "metadata": {}
        }
      ]
    }
  ]
}